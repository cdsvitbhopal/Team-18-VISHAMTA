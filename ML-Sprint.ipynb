{
 "cells": [
  {
   "cell_type": "code",
   "execution_count": 1,
   "metadata": {},
   "outputs": [
    {
     "name": "stderr",
     "output_type": "stream",
     "text": [
      "C:\\Users\\Shivang\\AppData\\Local\\Temp\\ipykernel_10508\\1436502071.py:2: DtypeWarning: Columns (9) have mixed types. Specify dtype option on import or set low_memory=False.\n",
      "  df = pd.read_csv('complaints.csv')\n"
     ]
    },
    {
     "data": {
      "text/html": [
       "<div>\n",
       "<style scoped>\n",
       "    .dataframe tbody tr th:only-of-type {\n",
       "        vertical-align: middle;\n",
       "    }\n",
       "\n",
       "    .dataframe tbody tr th {\n",
       "        vertical-align: top;\n",
       "    }\n",
       "\n",
       "    .dataframe thead th {\n",
       "        text-align: right;\n",
       "    }\n",
       "</style>\n",
       "<table border=\"1\" class=\"dataframe\">\n",
       "  <thead>\n",
       "    <tr style=\"text-align: right;\">\n",
       "      <th></th>\n",
       "      <th>Date received</th>\n",
       "      <th>Product</th>\n",
       "      <th>Sub-product</th>\n",
       "      <th>Issue</th>\n",
       "      <th>Sub-issue</th>\n",
       "      <th>Consumer complaint narrative</th>\n",
       "      <th>Company public response</th>\n",
       "      <th>Company</th>\n",
       "      <th>State</th>\n",
       "      <th>ZIP code</th>\n",
       "      <th>Tags</th>\n",
       "      <th>Consumer consent provided?</th>\n",
       "      <th>Submitted via</th>\n",
       "      <th>Date sent to company</th>\n",
       "      <th>Company response to consumer</th>\n",
       "      <th>Timely response?</th>\n",
       "      <th>Consumer disputed?</th>\n",
       "      <th>Complaint ID</th>\n",
       "    </tr>\n",
       "  </thead>\n",
       "  <tbody>\n",
       "    <tr>\n",
       "      <th>0</th>\n",
       "      <td>2022-04-18</td>\n",
       "      <td>Credit reporting, credit repair services, or o...</td>\n",
       "      <td>Credit reporting</td>\n",
       "      <td>Credit monitoring or identity theft protection...</td>\n",
       "      <td>Problem canceling credit monitoring or identif...</td>\n",
       "      <td>NaN</td>\n",
       "      <td>NaN</td>\n",
       "      <td>EQUIFAX, INC.</td>\n",
       "      <td>PA</td>\n",
       "      <td>18702.0</td>\n",
       "      <td>NaN</td>\n",
       "      <td>NaN</td>\n",
       "      <td>Web</td>\n",
       "      <td>2022-04-18</td>\n",
       "      <td>In progress</td>\n",
       "      <td>Yes</td>\n",
       "      <td>NaN</td>\n",
       "      <td>5458670</td>\n",
       "    </tr>\n",
       "    <tr>\n",
       "      <th>1</th>\n",
       "      <td>2022-04-11</td>\n",
       "      <td>Credit reporting, credit repair services, or o...</td>\n",
       "      <td>Credit reporting</td>\n",
       "      <td>Problem with a credit reporting company's inve...</td>\n",
       "      <td>Their investigation did not fix an error on yo...</td>\n",
       "      <td>NaN</td>\n",
       "      <td>NaN</td>\n",
       "      <td>Experian Information Solutions Inc.</td>\n",
       "      <td>FL</td>\n",
       "      <td>33570.0</td>\n",
       "      <td>NaN</td>\n",
       "      <td>NaN</td>\n",
       "      <td>Web</td>\n",
       "      <td>2022-04-11</td>\n",
       "      <td>In progress</td>\n",
       "      <td>Yes</td>\n",
       "      <td>NaN</td>\n",
       "      <td>5434433</td>\n",
       "    </tr>\n",
       "    <tr>\n",
       "      <th>2</th>\n",
       "      <td>2022-04-18</td>\n",
       "      <td>Credit reporting, credit repair services, or o...</td>\n",
       "      <td>Credit reporting</td>\n",
       "      <td>Problem with a credit reporting company's inve...</td>\n",
       "      <td>Their investigation did not fix an error on yo...</td>\n",
       "      <td>NaN</td>\n",
       "      <td>NaN</td>\n",
       "      <td>EQUIFAX, INC.</td>\n",
       "      <td>MD</td>\n",
       "      <td>20601.0</td>\n",
       "      <td>NaN</td>\n",
       "      <td>NaN</td>\n",
       "      <td>Web</td>\n",
       "      <td>2022-04-18</td>\n",
       "      <td>In progress</td>\n",
       "      <td>Yes</td>\n",
       "      <td>NaN</td>\n",
       "      <td>5458665</td>\n",
       "    </tr>\n",
       "    <tr>\n",
       "      <th>3</th>\n",
       "      <td>2022-04-11</td>\n",
       "      <td>Credit reporting, credit repair services, or o...</td>\n",
       "      <td>Credit reporting</td>\n",
       "      <td>Improper use of your report</td>\n",
       "      <td>Reporting company used your report improperly</td>\n",
       "      <td>NaN</td>\n",
       "      <td>NaN</td>\n",
       "      <td>Experian Information Solutions Inc.</td>\n",
       "      <td>FL</td>\n",
       "      <td>33610.0</td>\n",
       "      <td>NaN</td>\n",
       "      <td>NaN</td>\n",
       "      <td>Web</td>\n",
       "      <td>2022-04-11</td>\n",
       "      <td>In progress</td>\n",
       "      <td>Yes</td>\n",
       "      <td>NaN</td>\n",
       "      <td>5435526</td>\n",
       "    </tr>\n",
       "    <tr>\n",
       "      <th>4</th>\n",
       "      <td>2022-03-29</td>\n",
       "      <td>Checking or savings account</td>\n",
       "      <td>Savings account</td>\n",
       "      <td>Opening an account</td>\n",
       "      <td>Unable to open an account</td>\n",
       "      <td>NaN</td>\n",
       "      <td>Company has responded to the consumer and the ...</td>\n",
       "      <td>WELLS FARGO &amp; COMPANY</td>\n",
       "      <td>FL</td>\n",
       "      <td>32174.0</td>\n",
       "      <td>NaN</td>\n",
       "      <td>Consent not provided</td>\n",
       "      <td>Web</td>\n",
       "      <td>2022-04-07</td>\n",
       "      <td>Closed with explanation</td>\n",
       "      <td>Yes</td>\n",
       "      <td>NaN</td>\n",
       "      <td>5378632</td>\n",
       "    </tr>\n",
       "  </tbody>\n",
       "</table>\n",
       "</div>"
      ],
      "text/plain": [
       "  Date received                                            Product  \\\n",
       "0    2022-04-18  Credit reporting, credit repair services, or o...   \n",
       "1    2022-04-11  Credit reporting, credit repair services, or o...   \n",
       "2    2022-04-18  Credit reporting, credit repair services, or o...   \n",
       "3    2022-04-11  Credit reporting, credit repair services, or o...   \n",
       "4    2022-03-29                        Checking or savings account   \n",
       "\n",
       "        Sub-product                                              Issue  \\\n",
       "0  Credit reporting  Credit monitoring or identity theft protection...   \n",
       "1  Credit reporting  Problem with a credit reporting company's inve...   \n",
       "2  Credit reporting  Problem with a credit reporting company's inve...   \n",
       "3  Credit reporting                        Improper use of your report   \n",
       "4   Savings account                                 Opening an account   \n",
       "\n",
       "                                           Sub-issue  \\\n",
       "0  Problem canceling credit monitoring or identif...   \n",
       "1  Their investigation did not fix an error on yo...   \n",
       "2  Their investigation did not fix an error on yo...   \n",
       "3      Reporting company used your report improperly   \n",
       "4                          Unable to open an account   \n",
       "\n",
       "  Consumer complaint narrative  \\\n",
       "0                          NaN   \n",
       "1                          NaN   \n",
       "2                          NaN   \n",
       "3                          NaN   \n",
       "4                          NaN   \n",
       "\n",
       "                             Company public response  \\\n",
       "0                                                NaN   \n",
       "1                                                NaN   \n",
       "2                                                NaN   \n",
       "3                                                NaN   \n",
       "4  Company has responded to the consumer and the ...   \n",
       "\n",
       "                               Company State ZIP code Tags  \\\n",
       "0                        EQUIFAX, INC.    PA  18702.0  NaN   \n",
       "1  Experian Information Solutions Inc.    FL  33570.0  NaN   \n",
       "2                        EQUIFAX, INC.    MD  20601.0  NaN   \n",
       "3  Experian Information Solutions Inc.    FL  33610.0  NaN   \n",
       "4                WELLS FARGO & COMPANY    FL  32174.0  NaN   \n",
       "\n",
       "  Consumer consent provided? Submitted via Date sent to company  \\\n",
       "0                        NaN           Web           2022-04-18   \n",
       "1                        NaN           Web           2022-04-11   \n",
       "2                        NaN           Web           2022-04-18   \n",
       "3                        NaN           Web           2022-04-11   \n",
       "4       Consent not provided           Web           2022-04-07   \n",
       "\n",
       "  Company response to consumer Timely response? Consumer disputed?  \\\n",
       "0                  In progress              Yes                NaN   \n",
       "1                  In progress              Yes                NaN   \n",
       "2                  In progress              Yes                NaN   \n",
       "3                  In progress              Yes                NaN   \n",
       "4      Closed with explanation              Yes                NaN   \n",
       "\n",
       "   Complaint ID  \n",
       "0       5458670  \n",
       "1       5434433  \n",
       "2       5458665  \n",
       "3       5435526  \n",
       "4       5378632  "
      ]
     },
     "execution_count": 1,
     "metadata": {},
     "output_type": "execute_result"
    }
   ],
   "source": [
    "import pandas as pd\n",
    "df = pd.read_csv('complaints.csv')\n",
    "df.head()"
   ]
  },
  {
   "cell_type": "code",
   "execution_count": 4,
   "metadata": {},
   "outputs": [
    {
     "data": {
      "text/plain": [
       "Date received                         0\n",
       "Product                               0\n",
       "Sub-product                      235163\n",
       "Issue                                 0\n",
       "Sub-issue                        656139\n",
       "Consumer complaint narrative    1694641\n",
       "Company public response         1525308\n",
       "Company                               0\n",
       "State                             39425\n",
       "ZIP code                          39678\n",
       "Tags                            2301515\n",
       "Consumer consent provided?       765040\n",
       "Submitted via                         0\n",
       "Date sent to company                  0\n",
       "Company response to consumer          3\n",
       "Timely response?                      0\n",
       "Consumer disputed?              1840301\n",
       "Complaint ID                          0\n",
       "dtype: int64"
      ]
     },
     "execution_count": 4,
     "metadata": {},
     "output_type": "execute_result"
    }
   ],
   "source": [
    "df.isnull().sum()"
   ]
  },
  {
   "cell_type": "code",
   "execution_count": 5,
   "metadata": {},
   "outputs": [
    {
     "data": {
      "text/plain": [
       "(2608759, 18)"
      ]
     },
     "execution_count": 5,
     "metadata": {},
     "output_type": "execute_result"
    }
   ],
   "source": [
    "df.shape"
   ]
  },
  {
   "cell_type": "code",
   "execution_count": 8,
   "metadata": {},
   "outputs": [
    {
     "name": "stdout",
     "output_type": "stream",
     "text": [
      "<class 'pandas.core.frame.DataFrame'>\n",
      "RangeIndex: 2608759 entries, 0 to 2608758\n",
      "Data columns (total 18 columns):\n",
      " #   Column                        Dtype \n",
      "---  ------                        ----- \n",
      " 0   Date received                 object\n",
      " 1   Product                       object\n",
      " 2   Sub-product                   object\n",
      " 3   Issue                         object\n",
      " 4   Sub-issue                     object\n",
      " 5   Consumer complaint narrative  object\n",
      " 6   Company public response       object\n",
      " 7   Company                       object\n",
      " 8   State                         object\n",
      " 9   ZIP code                      object\n",
      " 10  Tags                          object\n",
      " 11  Consumer consent provided?    object\n",
      " 12  Submitted via                 object\n",
      " 13  Date sent to company          object\n",
      " 14  Company response to consumer  object\n",
      " 15  Timely response?              object\n",
      " 16  Consumer disputed?            object\n",
      " 17  Complaint ID                  int64 \n",
      "dtypes: int64(1), object(17)\n",
      "memory usage: 358.3+ MB\n"
     ]
    }
   ],
   "source": [
    "df.info()"
   ]
  },
  {
   "cell_type": "code",
   "execution_count": 9,
   "metadata": {},
   "outputs": [
    {
     "data": {
      "text/html": [
       "<div>\n",
       "<style scoped>\n",
       "    .dataframe tbody tr th:only-of-type {\n",
       "        vertical-align: middle;\n",
       "    }\n",
       "\n",
       "    .dataframe tbody tr th {\n",
       "        vertical-align: top;\n",
       "    }\n",
       "\n",
       "    .dataframe thead tr th {\n",
       "        text-align: left;\n",
       "    }\n",
       "\n",
       "    .dataframe thead tr:last-of-type th {\n",
       "        text-align: right;\n",
       "    }\n",
       "</style>\n",
       "<table border=\"1\" class=\"dataframe\">\n",
       "  <thead>\n",
       "    <tr>\n",
       "      <th></th>\n",
       "      <th colspan=\"8\" halign=\"left\">Complaint ID</th>\n",
       "    </tr>\n",
       "    <tr>\n",
       "      <th></th>\n",
       "      <th>count</th>\n",
       "      <th>mean</th>\n",
       "      <th>std</th>\n",
       "      <th>min</th>\n",
       "      <th>25%</th>\n",
       "      <th>50%</th>\n",
       "      <th>75%</th>\n",
       "      <th>max</th>\n",
       "    </tr>\n",
       "    <tr>\n",
       "      <th>Product</th>\n",
       "      <th></th>\n",
       "      <th></th>\n",
       "      <th></th>\n",
       "      <th></th>\n",
       "      <th></th>\n",
       "      <th></th>\n",
       "      <th></th>\n",
       "      <th></th>\n",
       "    </tr>\n",
       "  </thead>\n",
       "  <tbody>\n",
       "    <tr>\n",
       "      <th>Bank account or service</th>\n",
       "      <td>86206.0</td>\n",
       "      <td>1.234240e+06</td>\n",
       "      <td>7.577704e+05</td>\n",
       "      <td>39.0</td>\n",
       "      <td>525754.25</td>\n",
       "      <td>1280787.0</td>\n",
       "      <td>1938666.25</td>\n",
       "      <td>2447724.0</td>\n",
       "    </tr>\n",
       "    <tr>\n",
       "      <th>Checking or savings account</th>\n",
       "      <td>119518.0</td>\n",
       "      <td>3.721699e+06</td>\n",
       "      <td>8.072743e+05</td>\n",
       "      <td>2446250.0</td>\n",
       "      <td>3054397.00</td>\n",
       "      <td>3560509.5</td>\n",
       "      <td>4341340.25</td>\n",
       "      <td>5470116.0</td>\n",
       "    </tr>\n",
       "    <tr>\n",
       "      <th>Consumer Loan</th>\n",
       "      <td>31600.0</td>\n",
       "      <td>1.455718e+06</td>\n",
       "      <td>6.759951e+05</td>\n",
       "      <td>124.0</td>\n",
       "      <td>978002.75</td>\n",
       "      <td>1548287.5</td>\n",
       "      <td>2034816.50</td>\n",
       "      <td>2447718.0</td>\n",
       "    </tr>\n",
       "    <tr>\n",
       "      <th>Credit card</th>\n",
       "      <td>89190.0</td>\n",
       "      <td>1.172585e+06</td>\n",
       "      <td>7.842945e+05</td>\n",
       "      <td>1.0</td>\n",
       "      <td>416778.25</td>\n",
       "      <td>1209591.5</td>\n",
       "      <td>1890530.00</td>\n",
       "      <td>2447685.0</td>\n",
       "    </tr>\n",
       "    <tr>\n",
       "      <th>Credit card or prepaid card</th>\n",
       "      <td>141395.0</td>\n",
       "      <td>3.686135e+06</td>\n",
       "      <td>7.778380e+05</td>\n",
       "      <td>2464324.0</td>\n",
       "      <td>3053664.00</td>\n",
       "      <td>3558023.0</td>\n",
       "      <td>4205179.00</td>\n",
       "      <td>5464092.0</td>\n",
       "    </tr>\n",
       "    <tr>\n",
       "      <th>Credit reporting</th>\n",
       "      <td>140430.0</td>\n",
       "      <td>1.502886e+06</td>\n",
       "      <td>6.259779e+05</td>\n",
       "      <td>175591.0</td>\n",
       "      <td>987490.25</td>\n",
       "      <td>1569309.0</td>\n",
       "      <td>2037346.75</td>\n",
       "      <td>2447728.0</td>\n",
       "    </tr>\n",
       "    <tr>\n",
       "      <th>Credit reporting, credit repair services, or other personal consumer reports</th>\n",
       "      <td>1054686.0</td>\n",
       "      <td>3.964370e+06</td>\n",
       "      <td>8.086710e+05</td>\n",
       "      <td>2464318.0</td>\n",
       "      <td>3331010.50</td>\n",
       "      <td>3900081.5</td>\n",
       "      <td>4614975.75</td>\n",
       "      <td>5470103.0</td>\n",
       "    </tr>\n",
       "    <tr>\n",
       "      <th>Debt collection</th>\n",
       "      <td>418503.0</td>\n",
       "      <td>2.918019e+06</td>\n",
       "      <td>1.276255e+06</td>\n",
       "      <td>453124.0</td>\n",
       "      <td>1930771.50</td>\n",
       "      <td>2968182.0</td>\n",
       "      <td>3858092.00</td>\n",
       "      <td>5469355.0</td>\n",
       "    </tr>\n",
       "    <tr>\n",
       "      <th>Money transfer, virtual currency, or money service</th>\n",
       "      <td>39246.0</td>\n",
       "      <td>3.866879e+06</td>\n",
       "      <td>7.880949e+05</td>\n",
       "      <td>2464317.0</td>\n",
       "      <td>3199692.00</td>\n",
       "      <td>3828827.0</td>\n",
       "      <td>4436982.75</td>\n",
       "      <td>5463858.0</td>\n",
       "    </tr>\n",
       "    <tr>\n",
       "      <th>Money transfers</th>\n",
       "      <td>5354.0</td>\n",
       "      <td>1.474383e+06</td>\n",
       "      <td>5.711911e+05</td>\n",
       "      <td>373747.0</td>\n",
       "      <td>1000003.25</td>\n",
       "      <td>1510495.0</td>\n",
       "      <td>1947083.25</td>\n",
       "      <td>2447693.0</td>\n",
       "    </tr>\n",
       "    <tr>\n",
       "      <th>Mortgage</th>\n",
       "      <td>351881.0</td>\n",
       "      <td>1.939527e+06</td>\n",
       "      <td>1.428444e+06</td>\n",
       "      <td>5.0</td>\n",
       "      <td>642343.00</td>\n",
       "      <td>1746264.0</td>\n",
       "      <td>3011460.00</td>\n",
       "      <td>5464071.0</td>\n",
       "    </tr>\n",
       "    <tr>\n",
       "      <th>Other financial service</th>\n",
       "      <td>1058.0</td>\n",
       "      <td>1.797471e+06</td>\n",
       "      <td>4.254459e+05</td>\n",
       "      <td>945178.0</td>\n",
       "      <td>1470073.50</td>\n",
       "      <td>1843159.0</td>\n",
       "      <td>2171007.50</td>\n",
       "      <td>2447338.0</td>\n",
       "    </tr>\n",
       "    <tr>\n",
       "      <th>Payday loan</th>\n",
       "      <td>5543.0</td>\n",
       "      <td>1.495819e+06</td>\n",
       "      <td>5.358707e+05</td>\n",
       "      <td>588718.0</td>\n",
       "      <td>1039199.50</td>\n",
       "      <td>1461745.0</td>\n",
       "      <td>1970289.00</td>\n",
       "      <td>2447108.0</td>\n",
       "    </tr>\n",
       "    <tr>\n",
       "      <th>Payday loan, title loan, or personal loan</th>\n",
       "      <td>21814.0</td>\n",
       "      <td>3.612081e+06</td>\n",
       "      <td>7.983758e+05</td>\n",
       "      <td>2464442.0</td>\n",
       "      <td>2971086.00</td>\n",
       "      <td>3422778.0</td>\n",
       "      <td>4152411.00</td>\n",
       "      <td>5466036.0</td>\n",
       "    </tr>\n",
       "    <tr>\n",
       "      <th>Prepaid card</th>\n",
       "      <td>3819.0</td>\n",
       "      <td>1.736338e+06</td>\n",
       "      <td>3.838881e+05</td>\n",
       "      <td>944774.0</td>\n",
       "      <td>1505419.50</td>\n",
       "      <td>1646492.0</td>\n",
       "      <td>2040928.00</td>\n",
       "      <td>2447026.0</td>\n",
       "    </tr>\n",
       "    <tr>\n",
       "      <th>Student loan</th>\n",
       "      <td>66324.0</td>\n",
       "      <td>2.488454e+06</td>\n",
       "      <td>1.176340e+06</td>\n",
       "      <td>82.0</td>\n",
       "      <td>1876908.50</td>\n",
       "      <td>2480773.0</td>\n",
       "      <td>3152316.75</td>\n",
       "      <td>5463240.0</td>\n",
       "    </tr>\n",
       "    <tr>\n",
       "      <th>Vehicle loan or lease</th>\n",
       "      <td>32174.0</td>\n",
       "      <td>3.690508e+06</td>\n",
       "      <td>7.934622e+05</td>\n",
       "      <td>2464661.0</td>\n",
       "      <td>3021061.50</td>\n",
       "      <td>3558515.5</td>\n",
       "      <td>4284559.25</td>\n",
       "      <td>5462982.0</td>\n",
       "    </tr>\n",
       "    <tr>\n",
       "      <th>Virtual currency</th>\n",
       "      <td>18.0</td>\n",
       "      <td>1.845195e+06</td>\n",
       "      <td>3.839830e+05</td>\n",
       "      <td>986342.0</td>\n",
       "      <td>1621078.25</td>\n",
       "      <td>1838706.0</td>\n",
       "      <td>2177655.75</td>\n",
       "      <td>2416013.0</td>\n",
       "    </tr>\n",
       "  </tbody>\n",
       "</table>\n",
       "</div>"
      ],
      "text/plain": [
       "                                                   Complaint ID                \\\n",
       "                                                          count          mean   \n",
       "Product                                                                         \n",
       "Bank account or service                                 86206.0  1.234240e+06   \n",
       "Checking or savings account                            119518.0  3.721699e+06   \n",
       "Consumer Loan                                           31600.0  1.455718e+06   \n",
       "Credit card                                             89190.0  1.172585e+06   \n",
       "Credit card or prepaid card                            141395.0  3.686135e+06   \n",
       "Credit reporting                                       140430.0  1.502886e+06   \n",
       "Credit reporting, credit repair services, or ot...    1054686.0  3.964370e+06   \n",
       "Debt collection                                        418503.0  2.918019e+06   \n",
       "Money transfer, virtual currency, or money service      39246.0  3.866879e+06   \n",
       "Money transfers                                          5354.0  1.474383e+06   \n",
       "Mortgage                                               351881.0  1.939527e+06   \n",
       "Other financial service                                  1058.0  1.797471e+06   \n",
       "Payday loan                                              5543.0  1.495819e+06   \n",
       "Payday loan, title loan, or personal loan               21814.0  3.612081e+06   \n",
       "Prepaid card                                             3819.0  1.736338e+06   \n",
       "Student loan                                            66324.0  2.488454e+06   \n",
       "Vehicle loan or lease                                   32174.0  3.690508e+06   \n",
       "Virtual currency                                           18.0  1.845195e+06   \n",
       "\n",
       "                                                                             \\\n",
       "                                                             std        min   \n",
       "Product                                                                       \n",
       "Bank account or service                             7.577704e+05       39.0   \n",
       "Checking or savings account                         8.072743e+05  2446250.0   \n",
       "Consumer Loan                                       6.759951e+05      124.0   \n",
       "Credit card                                         7.842945e+05        1.0   \n",
       "Credit card or prepaid card                         7.778380e+05  2464324.0   \n",
       "Credit reporting                                    6.259779e+05   175591.0   \n",
       "Credit reporting, credit repair services, or ot...  8.086710e+05  2464318.0   \n",
       "Debt collection                                     1.276255e+06   453124.0   \n",
       "Money transfer, virtual currency, or money service  7.880949e+05  2464317.0   \n",
       "Money transfers                                     5.711911e+05   373747.0   \n",
       "Mortgage                                            1.428444e+06        5.0   \n",
       "Other financial service                             4.254459e+05   945178.0   \n",
       "Payday loan                                         5.358707e+05   588718.0   \n",
       "Payday loan, title loan, or personal loan           7.983758e+05  2464442.0   \n",
       "Prepaid card                                        3.838881e+05   944774.0   \n",
       "Student loan                                        1.176340e+06       82.0   \n",
       "Vehicle loan or lease                               7.934622e+05  2464661.0   \n",
       "Virtual currency                                    3.839830e+05   986342.0   \n",
       "\n",
       "                                                                           \\\n",
       "                                                           25%        50%   \n",
       "Product                                                                     \n",
       "Bank account or service                              525754.25  1280787.0   \n",
       "Checking or savings account                         3054397.00  3560509.5   \n",
       "Consumer Loan                                        978002.75  1548287.5   \n",
       "Credit card                                          416778.25  1209591.5   \n",
       "Credit card or prepaid card                         3053664.00  3558023.0   \n",
       "Credit reporting                                     987490.25  1569309.0   \n",
       "Credit reporting, credit repair services, or ot...  3331010.50  3900081.5   \n",
       "Debt collection                                     1930771.50  2968182.0   \n",
       "Money transfer, virtual currency, or money service  3199692.00  3828827.0   \n",
       "Money transfers                                     1000003.25  1510495.0   \n",
       "Mortgage                                             642343.00  1746264.0   \n",
       "Other financial service                             1470073.50  1843159.0   \n",
       "Payday loan                                         1039199.50  1461745.0   \n",
       "Payday loan, title loan, or personal loan           2971086.00  3422778.0   \n",
       "Prepaid card                                        1505419.50  1646492.0   \n",
       "Student loan                                        1876908.50  2480773.0   \n",
       "Vehicle loan or lease                               3021061.50  3558515.5   \n",
       "Virtual currency                                    1621078.25  1838706.0   \n",
       "\n",
       "                                                                           \n",
       "                                                           75%        max  \n",
       "Product                                                                    \n",
       "Bank account or service                             1938666.25  2447724.0  \n",
       "Checking or savings account                         4341340.25  5470116.0  \n",
       "Consumer Loan                                       2034816.50  2447718.0  \n",
       "Credit card                                         1890530.00  2447685.0  \n",
       "Credit card or prepaid card                         4205179.00  5464092.0  \n",
       "Credit reporting                                    2037346.75  2447728.0  \n",
       "Credit reporting, credit repair services, or ot...  4614975.75  5470103.0  \n",
       "Debt collection                                     3858092.00  5469355.0  \n",
       "Money transfer, virtual currency, or money service  4436982.75  5463858.0  \n",
       "Money transfers                                     1947083.25  2447693.0  \n",
       "Mortgage                                            3011460.00  5464071.0  \n",
       "Other financial service                             2171007.50  2447338.0  \n",
       "Payday loan                                         1970289.00  2447108.0  \n",
       "Payday loan, title loan, or personal loan           4152411.00  5466036.0  \n",
       "Prepaid card                                        2040928.00  2447026.0  \n",
       "Student loan                                        3152316.75  5463240.0  \n",
       "Vehicle loan or lease                               4284559.25  5462982.0  \n",
       "Virtual currency                                    2177655.75  2416013.0  "
      ]
     },
     "execution_count": 9,
     "metadata": {},
     "output_type": "execute_result"
    }
   ],
   "source": [
    "df.groupby('Product').describe()"
   ]
  },
  {
   "cell_type": "code",
   "execution_count": 10,
   "metadata": {},
   "outputs": [],
   "source": [
    "col = ['Product', 'Consumer complaint narrative', 'Issue','Company public response','Company response to consumer']\n",
    "df = df[col]"
   ]
  },
  {
   "cell_type": "code",
   "execution_count": 11,
   "metadata": {},
   "outputs": [
    {
     "data": {
      "text/plain": [
       "Index(['Product', 'Consumer complaint narrative', 'Issue',\n",
       "       'Company public response', 'Company response to consumer'],\n",
       "      dtype='object')"
      ]
     },
     "execution_count": 11,
     "metadata": {},
     "output_type": "execute_result"
    }
   ],
   "source": [
    "df.columns"
   ]
  },
  {
   "cell_type": "code",
   "execution_count": 12,
   "metadata": {},
   "outputs": [],
   "source": [
    "df.columns = ['Product', 'Consumer_complaint_narrative', 'Issue','Company_public_response','Company_response_to_consumer']"
   ]
  },
  {
   "cell_type": "code",
   "execution_count": 13,
   "metadata": {},
   "outputs": [
    {
     "data": {
      "text/html": [
       "<div>\n",
       "<style scoped>\n",
       "    .dataframe tbody tr th:only-of-type {\n",
       "        vertical-align: middle;\n",
       "    }\n",
       "\n",
       "    .dataframe tbody tr th {\n",
       "        vertical-align: top;\n",
       "    }\n",
       "\n",
       "    .dataframe thead th {\n",
       "        text-align: right;\n",
       "    }\n",
       "</style>\n",
       "<table border=\"1\" class=\"dataframe\">\n",
       "  <thead>\n",
       "    <tr style=\"text-align: right;\">\n",
       "      <th></th>\n",
       "      <th>Product</th>\n",
       "      <th>Consumer_complaint_narrative</th>\n",
       "      <th>Issue</th>\n",
       "      <th>Company_public_response</th>\n",
       "      <th>Company_response_to_consumer</th>\n",
       "    </tr>\n",
       "  </thead>\n",
       "  <tbody>\n",
       "    <tr>\n",
       "      <th>0</th>\n",
       "      <td>Credit reporting, credit repair services, or o...</td>\n",
       "      <td>NaN</td>\n",
       "      <td>Credit monitoring or identity theft protection...</td>\n",
       "      <td>NaN</td>\n",
       "      <td>In progress</td>\n",
       "    </tr>\n",
       "    <tr>\n",
       "      <th>1</th>\n",
       "      <td>Credit reporting, credit repair services, or o...</td>\n",
       "      <td>NaN</td>\n",
       "      <td>Problem with a credit reporting company's inve...</td>\n",
       "      <td>NaN</td>\n",
       "      <td>In progress</td>\n",
       "    </tr>\n",
       "    <tr>\n",
       "      <th>2</th>\n",
       "      <td>Credit reporting, credit repair services, or o...</td>\n",
       "      <td>NaN</td>\n",
       "      <td>Problem with a credit reporting company's inve...</td>\n",
       "      <td>NaN</td>\n",
       "      <td>In progress</td>\n",
       "    </tr>\n",
       "    <tr>\n",
       "      <th>3</th>\n",
       "      <td>Credit reporting, credit repair services, or o...</td>\n",
       "      <td>NaN</td>\n",
       "      <td>Improper use of your report</td>\n",
       "      <td>NaN</td>\n",
       "      <td>In progress</td>\n",
       "    </tr>\n",
       "    <tr>\n",
       "      <th>4</th>\n",
       "      <td>Checking or savings account</td>\n",
       "      <td>NaN</td>\n",
       "      <td>Opening an account</td>\n",
       "      <td>Company has responded to the consumer and the ...</td>\n",
       "      <td>Closed with explanation</td>\n",
       "    </tr>\n",
       "  </tbody>\n",
       "</table>\n",
       "</div>"
      ],
      "text/plain": [
       "                                             Product  \\\n",
       "0  Credit reporting, credit repair services, or o...   \n",
       "1  Credit reporting, credit repair services, or o...   \n",
       "2  Credit reporting, credit repair services, or o...   \n",
       "3  Credit reporting, credit repair services, or o...   \n",
       "4                        Checking or savings account   \n",
       "\n",
       "  Consumer_complaint_narrative  \\\n",
       "0                          NaN   \n",
       "1                          NaN   \n",
       "2                          NaN   \n",
       "3                          NaN   \n",
       "4                          NaN   \n",
       "\n",
       "                                               Issue  \\\n",
       "0  Credit monitoring or identity theft protection...   \n",
       "1  Problem with a credit reporting company's inve...   \n",
       "2  Problem with a credit reporting company's inve...   \n",
       "3                        Improper use of your report   \n",
       "4                                 Opening an account   \n",
       "\n",
       "                             Company_public_response  \\\n",
       "0                                                NaN   \n",
       "1                                                NaN   \n",
       "2                                                NaN   \n",
       "3                                                NaN   \n",
       "4  Company has responded to the consumer and the ...   \n",
       "\n",
       "  Company_response_to_consumer  \n",
       "0                  In progress  \n",
       "1                  In progress  \n",
       "2                  In progress  \n",
       "3                  In progress  \n",
       "4      Closed with explanation  "
      ]
     },
     "execution_count": 13,
     "metadata": {},
     "output_type": "execute_result"
    }
   ],
   "source": [
    "df.head()"
   ]
  },
  {
   "cell_type": "code",
   "execution_count": 14,
   "metadata": {},
   "outputs": [],
   "source": [
    "# from statistics import mode\n",
    "# if df['Consumer_complaint_narrative'].isnull:\n",
    "#     for i in df['Product'].unique():\n",
    "#         df['Consumer_complaint_narrative'] == mode(df['Consumer_complaint_narrative'])\n",
    "        \n",
    "# if df['Issue'].isnull:\n",
    "#     for i in df['Product'].unique():\n",
    "#         df['Issue'] == mode(df['Issue'])\n",
    "        \n",
    "# if df['Company_public_response'].isnull:\n",
    "#     for i in df['Product'].unique():\n",
    "#         df['Company_public_response'] == mode(df['Company_public_response'])\n",
    "        \n",
    "# if df['Company_response_to_consumer'].isnull:\n",
    "#     for i in df['Product'].unique():\n",
    "#         df['Company_response_to_consumer'] == mode(df['Company_response_to_consumer'])"
   ]
  },
  {
   "cell_type": "code",
   "execution_count": 16,
   "metadata": {},
   "outputs": [],
   "source": [
    "df = df.dropna(axis=0)"
   ]
  },
  {
   "cell_type": "code",
   "execution_count": 17,
   "metadata": {},
   "outputs": [
    {
     "data": {
      "text/plain": [
       "(443242, 5)"
      ]
     },
     "execution_count": 17,
     "metadata": {},
     "output_type": "execute_result"
    }
   ],
   "source": [
    "df.shape"
   ]
  },
  {
   "cell_type": "code",
   "execution_count": 18,
   "metadata": {},
   "outputs": [],
   "source": [
    "df['category_id'] = df['Product'].factorize()[0]\n",
    "df['Issue'] = df['Issue'].factorize()[0]\n",
    "\n",
    "from io import StringIO\n",
    "category_id_df = df[['Product', 'category_id']].drop_duplicates().sort_values('category_id')\n",
    "category_to_id = dict(category_id_df.values)\n",
    "id_to_category = dict(category_id_df[['category_id', 'Product']].values)\n",
    "category_id_df = df[['Issue', 'Product']].drop_duplicates().sort_values('Product')\n",
    "category_to_id = dict(category_id_df.values)\n",
    "id_to_category = dict(category_id_df[['Product', 'Issue']].values)"
   ]
  },
  {
   "cell_type": "code",
   "execution_count": 19,
   "metadata": {},
   "outputs": [
    {
     "data": {
      "text/html": [
       "<div>\n",
       "<style scoped>\n",
       "    .dataframe tbody tr th:only-of-type {\n",
       "        vertical-align: middle;\n",
       "    }\n",
       "\n",
       "    .dataframe tbody tr th {\n",
       "        vertical-align: top;\n",
       "    }\n",
       "\n",
       "    .dataframe thead th {\n",
       "        text-align: right;\n",
       "    }\n",
       "</style>\n",
       "<table border=\"1\" class=\"dataframe\">\n",
       "  <thead>\n",
       "    <tr style=\"text-align: right;\">\n",
       "      <th></th>\n",
       "      <th>Product</th>\n",
       "      <th>Consumer_complaint_narrative</th>\n",
       "      <th>Issue</th>\n",
       "      <th>Company_public_response</th>\n",
       "      <th>Company_response_to_consumer</th>\n",
       "      <th>category_id</th>\n",
       "    </tr>\n",
       "  </thead>\n",
       "  <tbody>\n",
       "    <tr>\n",
       "      <th>103</th>\n",
       "      <td>Checking or savings account</td>\n",
       "      <td>On Sunday, XX/XX/XXXX of 2021, at XXXX I recei...</td>\n",
       "      <td>0</td>\n",
       "      <td>Company has responded to the consumer and the ...</td>\n",
       "      <td>Closed with explanation</td>\n",
       "      <td>0</td>\n",
       "    </tr>\n",
       "    <tr>\n",
       "      <th>124</th>\n",
       "      <td>Money transfer, virtual currency, or money ser...</td>\n",
       "      <td>USAA decided to sell off their investment bank...</td>\n",
       "      <td>1</td>\n",
       "      <td>Company believes it acted appropriately as aut...</td>\n",
       "      <td>Closed with explanation</td>\n",
       "      <td>1</td>\n",
       "    </tr>\n",
       "    <tr>\n",
       "      <th>131</th>\n",
       "      <td>Credit card or prepaid card</td>\n",
       "      <td>I bought 2 {$100.00} XXXX gift cards at XXXX a...</td>\n",
       "      <td>2</td>\n",
       "      <td>Company has responded to the consumer and the ...</td>\n",
       "      <td>Closed with explanation</td>\n",
       "      <td>2</td>\n",
       "    </tr>\n",
       "    <tr>\n",
       "      <th>132</th>\n",
       "      <td>Credit reporting, credit repair services, or o...</td>\n",
       "      <td>I have already sent a request for the immediat...</td>\n",
       "      <td>3</td>\n",
       "      <td>Company has responded to the consumer and the ...</td>\n",
       "      <td>Closed with explanation</td>\n",
       "      <td>3</td>\n",
       "    </tr>\n",
       "    <tr>\n",
       "      <th>163</th>\n",
       "      <td>Vehicle loan or lease</td>\n",
       "      <td>Kia Finance is showing I have a {$10.00} curre...</td>\n",
       "      <td>3</td>\n",
       "      <td>Company has responded to the consumer and the ...</td>\n",
       "      <td>Closed with explanation</td>\n",
       "      <td>4</td>\n",
       "    </tr>\n",
       "  </tbody>\n",
       "</table>\n",
       "</div>"
      ],
      "text/plain": [
       "                                               Product  \\\n",
       "103                        Checking or savings account   \n",
       "124  Money transfer, virtual currency, or money ser...   \n",
       "131                        Credit card or prepaid card   \n",
       "132  Credit reporting, credit repair services, or o...   \n",
       "163                              Vehicle loan or lease   \n",
       "\n",
       "                          Consumer_complaint_narrative  Issue  \\\n",
       "103  On Sunday, XX/XX/XXXX of 2021, at XXXX I recei...      0   \n",
       "124  USAA decided to sell off their investment bank...      1   \n",
       "131  I bought 2 {$100.00} XXXX gift cards at XXXX a...      2   \n",
       "132  I have already sent a request for the immediat...      3   \n",
       "163  Kia Finance is showing I have a {$10.00} curre...      3   \n",
       "\n",
       "                               Company_public_response  \\\n",
       "103  Company has responded to the consumer and the ...   \n",
       "124  Company believes it acted appropriately as aut...   \n",
       "131  Company has responded to the consumer and the ...   \n",
       "132  Company has responded to the consumer and the ...   \n",
       "163  Company has responded to the consumer and the ...   \n",
       "\n",
       "    Company_response_to_consumer  category_id  \n",
       "103      Closed with explanation            0  \n",
       "124      Closed with explanation            1  \n",
       "131      Closed with explanation            2  \n",
       "132      Closed with explanation            3  \n",
       "163      Closed with explanation            4  "
      ]
     },
     "execution_count": 19,
     "metadata": {},
     "output_type": "execute_result"
    }
   ],
   "source": [
    "df.head()"
   ]
  },
  {
   "cell_type": "code",
   "execution_count": 20,
   "metadata": {},
   "outputs": [
    {
     "data": {
      "image/png": "[encoded data removed]",
      "text/plain": [
       "<Figure size 576x432 with 1 Axes>"
      ]
     },
     "metadata": {
      "needs_background": "light"
     },
     "output_type": "display_data"
    }
   ],
   "source": [
    "import matplotlib.pyplot as plt\n",
    "fig = plt.figure(figsize=(8,6))\n",
    "df.groupby('Product').Consumer_complaint_narrative.count().plot.bar(ylim=0)\n",
    "plt.show()"
   ]
  },
  {
   "cell_type": "code",
   "execution_count": 21,
   "metadata": {},
   "outputs": [
    {
     "data": {
      "text/plain": [
       "Credit reporting, credit repair services, or other personal consumer reports    210406\n",
       "Debt collection                                                                  69367\n",
       "Mortgage                                                                         46275\n",
       "Credit card or prepaid card                                                      33211\n",
       "Checking or savings account                                                      23126\n",
       "Credit reporting                                                                 18985\n",
       "Credit card                                                                       9361\n",
       "Bank account or service                                                           8627\n",
       "Vehicle loan or lease                                                             6281\n",
       "Money transfer, virtual currency, or money service                                4461\n",
       "Student loan                                                                      4349\n",
       "Payday loan, title loan, or personal loan                                         3664\n",
       "Consumer Loan                                                                     3631\n",
       "Payday loan                                                                        598\n",
       "Prepaid card                                                                       421\n",
       "Money transfers                                                                    344\n",
       "Other financial service                                                            127\n",
       "Virtual currency                                                                     8\n",
       "Name: Product, dtype: int64"
      ]
     },
     "execution_count": 21,
     "metadata": {},
     "output_type": "execute_result"
    }
   ],
   "source": [
    "df['Product'].value_counts()"
   ]
  },
  {
   "cell_type": "code",
   "execution_count": 22,
   "metadata": {},
   "outputs": [],
   "source": [
    "col = ['Credit reporting','Consumer Loan','Debt collection','Mortgage','Credit card','Other financial service',\n",
    "       'Bank account or service','Student loan','Money transfers','Payday loan','Prepaid card' ]"
   ]
  },
  {
   "cell_type": "code",
   "execution_count": 23,
   "metadata": {},
   "outputs": [],
   "source": [
    "col_to_rem = ['Credit card','Payday loan','Prepaid card','Virtual currency','Credit reporting','Money transfers']"
   ]
  },
  {
   "cell_type": "code",
   "execution_count": 24,
   "metadata": {},
   "outputs": [],
   "source": [
    "for i in col_to_rem:\n",
    "    df = df[df['Product']!=i]"
   ]
  },
  {
   "cell_type": "code",
   "execution_count": 25,
   "metadata": {},
   "outputs": [
    {
     "data": {
      "text/plain": [
       "Credit reporting, credit repair services, or other personal consumer reports    210406\n",
       "Debt collection                                                                  69367\n",
       "Mortgage                                                                         46275\n",
       "Credit card or prepaid card                                                      33211\n",
       "Checking or savings account                                                      23126\n",
       "Bank account or service                                                           8627\n",
       "Vehicle loan or lease                                                             6281\n",
       "Money transfer, virtual currency, or money service                                4461\n",
       "Student loan                                                                      4349\n",
       "Payday loan, title loan, or personal loan                                         3664\n",
       "Consumer Loan                                                                     3631\n",
       "Other financial service                                                            127\n",
       "Name: Product, dtype: int64"
      ]
     },
     "execution_count": 25,
     "metadata": {},
     "output_type": "execute_result"
    }
   ],
   "source": [
    "df['Product'].value_counts()"
   ]
  },
  {
   "cell_type": "code",
   "execution_count": 26,
   "metadata": {},
   "outputs": [
    {
     "data": {
      "text/plain": [
       "(413525, 6)"
      ]
     },
     "execution_count": 26,
     "metadata": {},
     "output_type": "execute_result"
    }
   ],
   "source": [
    "df.shape"
   ]
  },
  {
   "cell_type": "code",
   "execution_count": 27,
   "metadata": {},
   "outputs": [
    {
     "data": {
      "text/html": [
       "<div>\n",
       "<style scoped>\n",
       "    .dataframe tbody tr th:only-of-type {\n",
       "        vertical-align: middle;\n",
       "    }\n",
       "\n",
       "    .dataframe tbody tr th {\n",
       "        vertical-align: top;\n",
       "    }\n",
       "\n",
       "    .dataframe thead th {\n",
       "        text-align: right;\n",
       "    }\n",
       "</style>\n",
       "<table border=\"1\" class=\"dataframe\">\n",
       "  <thead>\n",
       "    <tr style=\"text-align: right;\">\n",
       "      <th></th>\n",
       "      <th>Product</th>\n",
       "      <th>Consumer_complaint_narrative</th>\n",
       "      <th>Issue</th>\n",
       "      <th>Company_public_response</th>\n",
       "      <th>Company_response_to_consumer</th>\n",
       "      <th>category_id</th>\n",
       "    </tr>\n",
       "  </thead>\n",
       "  <tbody>\n",
       "    <tr>\n",
       "      <th>103</th>\n",
       "      <td>Checking or savings account</td>\n",
       "      <td>On Sunday, XX/XX/XXXX of 2021, at XXXX I recei...</td>\n",
       "      <td>0</td>\n",
       "      <td>Company has responded to the consumer and the ...</td>\n",
       "      <td>Closed with explanation</td>\n",
       "      <td>0</td>\n",
       "    </tr>\n",
       "    <tr>\n",
       "      <th>124</th>\n",
       "      <td>Money transfer, virtual currency, or money ser...</td>\n",
       "      <td>USAA decided to sell off their investment bank...</td>\n",
       "      <td>1</td>\n",
       "      <td>Company believes it acted appropriately as aut...</td>\n",
       "      <td>Closed with explanation</td>\n",
       "      <td>1</td>\n",
       "    </tr>\n",
       "    <tr>\n",
       "      <th>131</th>\n",
       "      <td>Credit card or prepaid card</td>\n",
       "      <td>I bought 2 {$100.00} XXXX gift cards at XXXX a...</td>\n",
       "      <td>2</td>\n",
       "      <td>Company has responded to the consumer and the ...</td>\n",
       "      <td>Closed with explanation</td>\n",
       "      <td>2</td>\n",
       "    </tr>\n",
       "    <tr>\n",
       "      <th>132</th>\n",
       "      <td>Credit reporting, credit repair services, or o...</td>\n",
       "      <td>I have already sent a request for the immediat...</td>\n",
       "      <td>3</td>\n",
       "      <td>Company has responded to the consumer and the ...</td>\n",
       "      <td>Closed with explanation</td>\n",
       "      <td>3</td>\n",
       "    </tr>\n",
       "    <tr>\n",
       "      <th>163</th>\n",
       "      <td>Vehicle loan or lease</td>\n",
       "      <td>Kia Finance is showing I have a {$10.00} curre...</td>\n",
       "      <td>3</td>\n",
       "      <td>Company has responded to the consumer and the ...</td>\n",
       "      <td>Closed with explanation</td>\n",
       "      <td>4</td>\n",
       "    </tr>\n",
       "  </tbody>\n",
       "</table>\n",
       "</div>"
      ],
      "text/plain": [
       "                                               Product  \\\n",
       "103                        Checking or savings account   \n",
       "124  Money transfer, virtual currency, or money ser...   \n",
       "131                        Credit card or prepaid card   \n",
       "132  Credit reporting, credit repair services, or o...   \n",
       "163                              Vehicle loan or lease   \n",
       "\n",
       "                          Consumer_complaint_narrative  Issue  \\\n",
       "103  On Sunday, XX/XX/XXXX of 2021, at XXXX I recei...      0   \n",
       "124  USAA decided to sell off their investment bank...      1   \n",
       "131  I bought 2 {$100.00} XXXX gift cards at XXXX a...      2   \n",
       "132  I have already sent a request for the immediat...      3   \n",
       "163  Kia Finance is showing I have a {$10.00} curre...      3   \n",
       "\n",
       "                               Company_public_response  \\\n",
       "103  Company has responded to the consumer and the ...   \n",
       "124  Company believes it acted appropriately as aut...   \n",
       "131  Company has responded to the consumer and the ...   \n",
       "132  Company has responded to the consumer and the ...   \n",
       "163  Company has responded to the consumer and the ...   \n",
       "\n",
       "    Company_response_to_consumer  category_id  \n",
       "103      Closed with explanation            0  \n",
       "124      Closed with explanation            1  \n",
       "131      Closed with explanation            2  \n",
       "132      Closed with explanation            3  \n",
       "163      Closed with explanation            4  "
      ]
     },
     "execution_count": 27,
     "metadata": {},
     "output_type": "execute_result"
    }
   ],
   "source": [
    "df.head()"
   ]
  },
  {
   "cell_type": "code",
   "execution_count": 28,
   "metadata": {},
   "outputs": [
    {
     "data": {
      "text/plain": [
       "373047"
      ]
     },
     "execution_count": 28,
     "metadata": {},
     "output_type": "execute_result"
    }
   ],
   "source": [
    "len(df['Consumer_complaint_narrative'].unique())"
   ]
  },
  {
   "cell_type": "code",
   "execution_count": 29,
   "metadata": {},
   "outputs": [],
   "source": [
    "\n",
    "df.drop_duplicates(subset =['Consumer_complaint_narrative','Issue','Company_public_response','Company_response_to_consumer'], keep = False, inplace = True)"
   ]
  },
  {
   "cell_type": "code",
   "execution_count": 30,
   "metadata": {},
   "outputs": [
    {
     "data": {
      "text/plain": [
       "(364404, 6)"
      ]
     },
     "execution_count": 30,
     "metadata": {},
     "output_type": "execute_result"
    }
   ],
   "source": [
    "df.shape"
   ]
  },
  {
   "cell_type": "code",
   "execution_count": 31,
   "metadata": {},
   "outputs": [],
   "source": [
    "import nltk"
   ]
  },
  {
   "cell_type": "code",
   "execution_count": 32,
   "metadata": {},
   "outputs": [
    {
     "name": "stderr",
     "output_type": "stream",
     "text": [
      "[nltk_data] Downloading package stopwords to\n",
      "[nltk_data]     C:\\Users\\Shivang\\AppData\\Roaming\\nltk_data...\n",
      "[nltk_data]   Package stopwords is already up-to-date!\n"
     ]
    }
   ],
   "source": [
    "nltk.download('stopwords')\n",
    "from nltk.corpus import stopwords"
   ]
  },
  {
   "cell_type": "code",
   "execution_count": 33,
   "metadata": {},
   "outputs": [],
   "source": [
    "stop = set(stopwords.words(\"english\"))"
   ]
  },
  {
   "cell_type": "code",
   "execution_count": 34,
   "metadata": {},
   "outputs": [],
   "source": [
    "def remove_stopwords(text):\n",
    "    filtered_words = [word.lower() for word in text.split() if word.lower() not in stop]\n",
    "    return \" \".join(filtered_words)"
   ]
  },
  {
   "cell_type": "code",
   "execution_count": 35,
   "metadata": {},
   "outputs": [
    {
     "name": "stdout",
     "output_type": "stream",
     "text": [
      "object\n"
     ]
    }
   ],
   "source": [
    "print(df.Consumer_complaint_narrative.dtypes)"
   ]
  },
  {
   "cell_type": "code",
   "execution_count": 36,
   "metadata": {},
   "outputs": [
    {
     "name": "stdout",
     "output_type": "stream",
     "text": [
      "<class 'pandas.core.frame.DataFrame'>\n",
      "Int64Index: 364404 entries, 103 to 2608752\n",
      "Data columns (total 6 columns):\n",
      " #   Column                        Non-Null Count   Dtype \n",
      "---  ------                        --------------   ----- \n",
      " 0   Product                       364404 non-null  object\n",
      " 1   Consumer_complaint_narrative  364404 non-null  object\n",
      " 2   Issue                         364404 non-null  int64 \n",
      " 3   Company_public_response       364404 non-null  object\n",
      " 4   Company_response_to_consumer  364404 non-null  object\n",
      " 5   category_id                   364404 non-null  int64 \n",
      "dtypes: int64(2), object(4)\n",
      "memory usage: 19.5+ MB\n"
     ]
    }
   ],
   "source": [
    "df.info()"
   ]
  },
  {
   "cell_type": "code",
   "execution_count": 37,
   "metadata": {},
   "outputs": [],
   "source": [
    "df['Consumer_complaint_narrative'] = df['Consumer_complaint_narrative'].astype(str)\n",
    "df['Issue'] = df['Issue'].astype(str)\n",
    "df['Company_public_response'] = df['Company_public_response'].astype(str)\n",
    "df['Company_response_to_consumer'] = df['Company_response_to_consumer'].astype(str)"
   ]
  },
  {
   "cell_type": "code",
   "execution_count": 38,
   "metadata": {},
   "outputs": [],
   "source": [
    "df['Consumer_complaint_narrative'] = df.Consumer_complaint_narrative.map(remove_stopwords)\n",
    "df['Issue'] = df.Issue.map(remove_stopwords)\n",
    "df['Company_public_response'] = df.Company_public_response.map(remove_stopwords)\n",
    "df['Company_response_to_consumer'] = df.Company_response_to_consumer.map(remove_stopwords)"
   ]
  },
  {
   "cell_type": "code",
   "execution_count": 39,
   "metadata": {},
   "outputs": [
    {
     "data": {
      "text/plain": [
       "103        sunday, xx/xx/xxxx 2021, xxxx received automat...\n",
       "124        usaa decided sell investment banking business ...\n",
       "131        bought 2 {$100.00} xxxx gift cards xxxx appare...\n",
       "132        already sent request immediate removal account...\n",
       "163        kia finance showing {$10.00} current open bala...\n",
       "                                 ...                        \n",
       "2608118    original complaint regarding xxxx xxxx xxxx, (...\n",
       "2608425    currently reference complaint file bb & case n...\n",
       "2608740     received calls notices regards alleged debt owed\n",
       "2608744    near end xxxx 2016 opened citigold checking ac...\n",
       "2608752    xx/xx/xxxx purchased xxxx xxxx xxxx xxxx. driv...\n",
       "Name: Consumer_complaint_narrative, Length: 364404, dtype: object"
      ]
     },
     "execution_count": 39,
     "metadata": {},
     "output_type": "execute_result"
    }
   ],
   "source": [
    "df.Consumer_complaint_narrative"
   ]
  },
  {
   "cell_type": "code",
   "execution_count": 40,
   "metadata": {},
   "outputs": [],
   "source": [
    "from collections import Counter"
   ]
  },
  {
   "cell_type": "code",
   "execution_count": 41,
   "metadata": {},
   "outputs": [],
   "source": [
    "def counter_word(text_col):\n",
    "    count = Counter()\n",
    "    for text in text_col.values:\n",
    "        for word in text.split():\n",
    "            count[word] += 1\n",
    "    return count\n",
    "\n",
    "counter = counter_word(df.Consumer_complaint_narrative)"
   ]
  },
  {
   "cell_type": "code",
   "execution_count": 42,
   "metadata": {},
   "outputs": [],
   "source": [
    "num_unique_words = len(counter)"
   ]
  },
  {
   "cell_type": "code",
   "execution_count": 43,
   "metadata": {},
   "outputs": [
    {
     "data": {
      "text/plain": [
       "[('xxxx', 3100329),\n",
       " ('credit', 648513),\n",
       " ('account', 453419),\n",
       " ('(', 394108),\n",
       " (')', 322680),\n",
       " ('xx/xx/xxxx', 300909),\n",
       " ('xxxx,', 295074),\n",
       " ('information', 243804),\n",
       " ('would', 220119),\n",
       " (':', 215659)]"
      ]
     },
     "execution_count": 43,
     "metadata": {},
     "output_type": "execute_result"
    }
   ],
   "source": [
    "counter.most_common(10)"
   ]
  },
  {
   "cell_type": "code",
   "execution_count": 44,
   "metadata": {},
   "outputs": [],
   "source": [
    "train_size = int(df.shape[0]*0.8)\n",
    "\n",
    "train_df = df[:train_size]\n",
    "val_df = df[train_size:]\n",
    "\n",
    "train_sentence = train_df.Consumer_complaint_narrative.to_numpy()\n",
    "train_lable = train_df.Product.to_numpy()\n",
    "val_sentence = val_df.Consumer_complaint_narrative.to_numpy()\n",
    "val_lable = val_df.Product.to_numpy()"
   ]
  },
  {
   "cell_type": "code",
   "execution_count": 45,
   "metadata": {},
   "outputs": [
    {
     "data": {
      "text/plain": [
       "((291523,), (72881,))"
      ]
     },
     "execution_count": 45,
     "metadata": {},
     "output_type": "execute_result"
    }
   ],
   "source": [
    "train_sentence.shape , val_sentence.shape"
   ]
  },
  {
   "cell_type": "code",
   "execution_count": 46,
   "metadata": {},
   "outputs": [],
   "source": [
    "from tensorflow.keras.preprocessing.text import Tokenizer"
   ]
  },
  {
   "cell_type": "code",
   "execution_count": 47,
   "metadata": {},
   "outputs": [],
   "source": [
    "tokenizer = Tokenizer(num_words=num_unique_words)\n",
    "tokenizer.fit_on_texts(train_sentence)"
   ]
  },
  {
   "cell_type": "code",
   "execution_count": 48,
   "metadata": {},
   "outputs": [],
   "source": [
    "word_index = tokenizer.word_index"
   ]
  },
  {
   "cell_type": "code",
   "execution_count": 49,
   "metadata": {},
   "outputs": [],
   "source": [
    "training_seq = tokenizer.texts_to_sequences(train_sentence)\n",
    "val_seq = tokenizer.texts_to_sequences(val_sentence)"
   ]
  },
  {
   "cell_type": "code",
   "execution_count": 50,
   "metadata": {},
   "outputs": [
    {
     "data": {
      "text/plain": [
       "((291523, 60), (72881, 60))"
      ]
     },
     "execution_count": 50,
     "metadata": {},
     "output_type": "execute_result"
    }
   ],
   "source": [
    "from tensorflow.keras.preprocessing.sequence import pad_sequences\n",
    "\n",
    "max_length = 60\n",
    "\n",
    "train_padded = pad_sequences(training_seq , maxlen = max_length , padding = \"post\" , truncating = \"post\")\n",
    "val_padded = pad_sequences(val_seq , maxlen = max_length , padding = \"post\" , truncating = \"post\")\n",
    "train_padded.shape , val_padded.shape"
   ]
  },
  {
   "cell_type": "code",
   "execution_count": 51,
   "metadata": {},
   "outputs": [],
   "source": [
    "rev_word_index = dict([(idx,word) for (word,idx) in word_index.items()])"
   ]
  },
  {
   "cell_type": "code",
   "execution_count": 52,
   "metadata": {},
   "outputs": [],
   "source": [
    "def decode(sequence):\n",
    "    return \" \".join([rev_word_index.get(idx,\"?\") for idx in sequence])"
   ]
  },
  {
   "cell_type": "code",
   "execution_count": 53,
   "metadata": {},
   "outputs": [
    {
     "name": "stdout",
     "output_type": "stream",
     "text": [
      "[350, 1970, 3, 17, 1556, 23076, 219, 3, 205, 1, 1, 26424, 469, 1, 1, 133, 1, 413, 3, 17, 366, 872, 548, 1, 1, 1, 1, 3, 17, 881, 1, 46, 525, 3, 78, 3, 17, 16, 573, 251, 177, 1119, 78, 71, 398, 148, 1556, 992, 1056, 1, 1596, 2792, 1548, 217, 45, 126, 658, 30, 1, 46, 71, 398, 859, 273]\n",
      "placed permanent credit card offers optout three credit agencies xxxx xxxx refence numbers xxxx xxxx however xxxx mailed credit card offer promotion checks xxxx xxxx xxxx xxxx credit card ending xxxx please look credit agency credit card company responsible error correct appropriate agency make sure receive offers future furthermore xxxx permanently opted more via phone mail confirmation number xxxx please make sure happen again\n"
     ]
    }
   ],
   "source": [
    "decoded_text = decode(training_seq[10])\n",
    "\n",
    "print(training_seq[10])\n",
    "print(decoded_text)"
   ]
  },
  {
   "cell_type": "code",
   "execution_count": 54,
   "metadata": {},
   "outputs": [],
   "source": [
    "from tensorflow.keras import layers\n",
    "from keras.models import Sequential"
   ]
  },
  {
   "cell_type": "code",
   "execution_count": 93,
   "metadata": {},
   "outputs": [
    {
     "name": "stdout",
     "output_type": "stream",
     "text": [
      "Model: \"sequential_1\"\n",
      "_________________________________________________________________\n",
      " Layer (type)                Output Shape              Param #   \n",
      "=================================================================\n",
      " embedding_1 (Embedding)     (None, 60, 32)            8279392   \n",
      "                                                                 \n",
      " lstm_1 (LSTM)               (None, 64)                24832     \n",
      "                                                                 \n",
      " dense_1 (Dense)             (None, 1)                 65        \n",
      "                                                                 \n",
      "=================================================================\n",
      "Total params: 8,304,289\n",
      "Trainable params: 8,304,289\n",
      "Non-trainable params: 0\n",
      "_________________________________________________________________\n"
     ]
    }
   ],
   "source": [
    "model = Sequential()\n",
    "model.add(layers.Embedding(num_unique_words , 32, input_length = max_length))\n",
    "\n",
    "model.add(layers.LSTM(64, dropout=0.1))\n",
    "model.add(layers.Dense(1, activation=\"sigmoid\"))\n",
    "\n",
    "model.summary()"
   ]
  },
  {
   "cell_type": "code",
   "execution_count": 56,
   "metadata": {},
   "outputs": [
    {
     "data": {
      "text/plain": [
       "(364404, 6)"
      ]
     },
     "execution_count": 56,
     "metadata": {},
     "output_type": "execute_result"
    }
   ],
   "source": [
    "df.shape"
   ]
  },
  {
   "cell_type": "code",
   "execution_count": null,
   "metadata": {},
   "outputs": [],
   "source": []
  },
  {
   "cell_type": "code",
   "execution_count": 82,
   "metadata": {},
   "outputs": [],
   "source": [
    "# from sklearn.model_selection import train_test_split\n",
    "# x_train, x_test, y_train, y_test = train_test_split(train_padded ,train_lable, test_size=0.3, random_state=1000)"
   ]
  },
  {
   "cell_type": "code",
   "execution_count": 86,
   "metadata": {},
   "outputs": [
    {
     "data": {
      "text/plain": [
       "GaussianNB()"
      ]
     },
     "execution_count": 86,
     "metadata": {},
     "output_type": "execute_result"
    }
   ],
   "source": [
    "from sklearn.naive_bayes import GaussianNB\n",
    "gnb = GaussianNB()\n",
    "gnb.fit(train_padded, train_lable)"
   ]
  },
  {
   "cell_type": "code",
   "execution_count": 89,
   "metadata": {},
   "outputs": [
    {
     "data": {
      "text/plain": [
       "array(['Credit reporting, credit repair services, or other personal consumer reports',\n",
       "       'Credit reporting, credit repair services, or other personal consumer reports',\n",
       "       'Consumer Loan', ...,\n",
       "       'Credit reporting, credit repair services, or other personal consumer reports',\n",
       "       'Credit reporting, credit repair services, or other personal consumer reports',\n",
       "       'Bank account or service'], dtype='<U76')"
      ]
     },
     "execution_count": 89,
     "metadata": {},
     "output_type": "execute_result"
    }
   ],
   "source": [
    "prediction = gnb.predict(val_padded)\n",
    "prediction"
   ]
  },
  {
   "cell_type": "code",
   "execution_count": 91,
   "metadata": {},
   "outputs": [
    {
     "name": "stdout",
     "output_type": "stream",
     "text": [
      "44.70300901469519\n"
     ]
    }
   ],
   "source": [
    "from sklearn.metrics import accuracy_score,confusion_matrix\n",
    "print(accuracy_score(prediction, val_lable)*100)"
   ]
  },
  {
   "cell_type": "code",
   "execution_count": 97,
   "metadata": {},
   "outputs": [
    {
     "data": {
      "image/png": "[encoded data removed]",
      "text/plain": [
       "<Figure size 720x720 with 2 Axes>"
      ]
     },
     "metadata": {
      "needs_background": "light"
     },
     "output_type": "display_data"
    }
   ],
   "source": [
    "# X_train, X_test, y_train, y_test, indices_train, indices_test = train_test_split(train_padded ,train_lable, df.index, test_size=0.33, random_state=0)\n",
    "# model.fit(X_train, y_train)\n",
    "# y_pred = model.predict(X_test)\n",
    "import matplotlib.pyplot as plt\n",
    "import seaborn as sns\n",
    "\n",
    "xlabel = []\n",
    "from sklearn.metrics import confusion_matrix\n",
    "conf_mat = confusion_matrix(val_lable, prediction)\n",
    "fig, ax = plt.subplots(figsize=(10,10))\n",
    "sns.heatmap(conf_mat, annot=True, fmt='d',\n",
    "            xticklabels=col, yticklabels=col)\n",
    "plt.ylabel('Actual')\n",
    "plt.xlabel('Predicted')\n",
    "plt.show()"
   ]
  },
  {
   "cell_type": "code",
   "execution_count": 73,
   "metadata": {},
   "outputs": [
    {
     "data": {
      "text/html": [
       "<div>\n",
       "<style scoped>\n",
       "    .dataframe tbody tr th:only-of-type {\n",
       "        vertical-align: middle;\n",
       "    }\n",
       "\n",
       "    .dataframe tbody tr th {\n",
       "        vertical-align: top;\n",
       "    }\n",
       "\n",
       "    .dataframe thead th {\n",
       "        text-align: right;\n",
       "    }\n",
       "</style>\n",
       "<table border=\"1\" class=\"dataframe\">\n",
       "  <thead>\n",
       "    <tr style=\"text-align: right;\">\n",
       "      <th></th>\n",
       "      <th>Product</th>\n",
       "      <th>Consumer_complaint_narrative</th>\n",
       "      <th>Issue</th>\n",
       "      <th>Company_public_response</th>\n",
       "      <th>Company_response_to_consumer</th>\n",
       "      <th>category_id</th>\n",
       "    </tr>\n",
       "  </thead>\n",
       "  <tbody>\n",
       "    <tr>\n",
       "      <th>103</th>\n",
       "      <td>Checking or savings account</td>\n",
       "      <td>sunday, xx/xx/xxxx 2021, xxxx received automat...</td>\n",
       "      <td>0</td>\n",
       "      <td>company responded consumer cfpb chooses provid...</td>\n",
       "      <td>closed explanation</td>\n",
       "      <td>0</td>\n",
       "    </tr>\n",
       "    <tr>\n",
       "      <th>124</th>\n",
       "      <td>Money transfer, virtual currency, or money ser...</td>\n",
       "      <td>usaa decided sell investment banking business ...</td>\n",
       "      <td>1</td>\n",
       "      <td>company believes acted appropriately authorize...</td>\n",
       "      <td>closed explanation</td>\n",
       "      <td>1</td>\n",
       "    </tr>\n",
       "    <tr>\n",
       "      <th>131</th>\n",
       "      <td>Credit card or prepaid card</td>\n",
       "      <td>bought 2 {$100.00} xxxx gift cards xxxx appare...</td>\n",
       "      <td>2</td>\n",
       "      <td>company responded consumer cfpb chooses provid...</td>\n",
       "      <td>closed explanation</td>\n",
       "      <td>2</td>\n",
       "    </tr>\n",
       "    <tr>\n",
       "      <th>132</th>\n",
       "      <td>Credit reporting, credit repair services, or o...</td>\n",
       "      <td>already sent request immediate removal account...</td>\n",
       "      <td>3</td>\n",
       "      <td>company responded consumer cfpb chooses provid...</td>\n",
       "      <td>closed explanation</td>\n",
       "      <td>3</td>\n",
       "    </tr>\n",
       "    <tr>\n",
       "      <th>163</th>\n",
       "      <td>Vehicle loan or lease</td>\n",
       "      <td>kia finance showing {$10.00} current open bala...</td>\n",
       "      <td>3</td>\n",
       "      <td>company responded consumer cfpb chooses provid...</td>\n",
       "      <td>closed explanation</td>\n",
       "      <td>4</td>\n",
       "    </tr>\n",
       "  </tbody>\n",
       "</table>\n",
       "</div>"
      ],
      "text/plain": [
       "                                               Product  \\\n",
       "103                        Checking or savings account   \n",
       "124  Money transfer, virtual currency, or money ser...   \n",
       "131                        Credit card or prepaid card   \n",
       "132  Credit reporting, credit repair services, or o...   \n",
       "163                              Vehicle loan or lease   \n",
       "\n",
       "                          Consumer_complaint_narrative Issue  \\\n",
       "103  sunday, xx/xx/xxxx 2021, xxxx received automat...     0   \n",
       "124  usaa decided sell investment banking business ...     1   \n",
       "131  bought 2 {$100.00} xxxx gift cards xxxx appare...     2   \n",
       "132  already sent request immediate removal account...     3   \n",
       "163  kia finance showing {$10.00} current open bala...     3   \n",
       "\n",
       "                               Company_public_response  \\\n",
       "103  company responded consumer cfpb chooses provid...   \n",
       "124  company believes acted appropriately authorize...   \n",
       "131  company responded consumer cfpb chooses provid...   \n",
       "132  company responded consumer cfpb chooses provid...   \n",
       "163  company responded consumer cfpb chooses provid...   \n",
       "\n",
       "    Company_response_to_consumer  category_id  \n",
       "103           closed explanation            0  \n",
       "124           closed explanation            1  \n",
       "131           closed explanation            2  \n",
       "132           closed explanation            3  \n",
       "163           closed explanation            4  "
      ]
     },
     "execution_count": 73,
     "metadata": {},
     "output_type": "execute_result"
    }
   ],
   "source": [
    "df.head()"
   ]
  },
  {
   "cell_type": "code",
   "execution_count": 65,
   "metadata": {},
   "outputs": [
    {
     "data": {
      "text/plain": [
       "array(['Bank account or service', 'Bank account or service',\n",
       "       'Bank account or service', 'Bank account or service',\n",
       "       'Bank account or service', 'Checking or savings account',\n",
       "       'Checking or savings account', 'Checking or savings account',\n",
       "       'Checking or savings account', 'Checking or savings account',\n",
       "       'Checking or savings account', 'Checking or savings account',\n",
       "       'Checking or savings account', 'Checking or savings account',\n",
       "       'Checking or savings account', 'Checking or savings account',\n",
       "       'Consumer Loan', 'Consumer Loan', 'Consumer Loan', 'Consumer Loan',\n",
       "       'Consumer Loan', 'Consumer Loan', 'Consumer Loan', 'Consumer Loan',\n",
       "       'Consumer Loan', 'Consumer Loan', 'Consumer Loan', 'Consumer Loan',\n",
       "       'Consumer Loan', 'Consumer Loan', 'Consumer Loan', 'Consumer Loan',\n",
       "       'Credit card', 'Credit card', 'Credit card', 'Credit card',\n",
       "       'Credit card', 'Credit card', 'Credit card', 'Credit card',\n",
       "       'Credit card', 'Credit card', 'Credit card', 'Credit card',\n",
       "       'Credit card', 'Credit card', 'Credit card', 'Credit card',\n",
       "       'Credit card', 'Credit card', 'Credit card', 'Credit card',\n",
       "       'Credit card', 'Credit card', 'Credit card', 'Credit card',\n",
       "       'Credit card', 'Credit card', 'Credit card', 'Credit card',\n",
       "       'Credit card', 'Credit card', 'Credit card or prepaid card',\n",
       "       'Credit card or prepaid card', 'Credit card or prepaid card',\n",
       "       'Credit card or prepaid card', 'Credit card or prepaid card',\n",
       "       'Credit card or prepaid card', 'Credit card or prepaid card',\n",
       "       'Credit card or prepaid card', 'Credit card or prepaid card',\n",
       "       'Credit card or prepaid card', 'Credit card or prepaid card',\n",
       "       'Credit card or prepaid card', 'Credit card or prepaid card',\n",
       "       'Credit card or prepaid card', 'Credit card or prepaid card',\n",
       "       'Credit card or prepaid card', 'Credit card or prepaid card',\n",
       "       'Credit card or prepaid card', 'Credit card or prepaid card',\n",
       "       'Credit card or prepaid card', 'Credit card or prepaid card',\n",
       "       'Credit card or prepaid card', 'Credit reporting',\n",
       "       'Credit reporting', 'Credit reporting', 'Credit reporting',\n",
       "       'Credit reporting',\n",
       "       'Credit reporting, credit repair services, or other personal consumer reports',\n",
       "       'Credit reporting, credit repair services, or other personal consumer reports',\n",
       "       'Credit reporting, credit repair services, or other personal consumer reports',\n",
       "       'Credit reporting, credit repair services, or other personal consumer reports',\n",
       "       'Credit reporting, credit repair services, or other personal consumer reports',\n",
       "       'Credit reporting, credit repair services, or other personal consumer reports',\n",
       "       'Credit reporting, credit repair services, or other personal consumer reports',\n",
       "       'Credit reporting, credit repair services, or other personal consumer reports',\n",
       "       'Credit reporting, credit repair services, or other personal consumer reports',\n",
       "       'Credit reporting, credit repair services, or other personal consumer reports',\n",
       "       'Credit reporting, credit repair services, or other personal consumer reports',\n",
       "       'Credit reporting, credit repair services, or other personal consumer reports',\n",
       "       'Credit reporting, credit repair services, or other personal consumer reports',\n",
       "       'Credit reporting, credit repair services, or other personal consumer reports',\n",
       "       'Credit reporting, credit repair services, or other personal consumer reports',\n",
       "       'Credit reporting, credit repair services, or other personal consumer reports',\n",
       "       'Credit reporting, credit repair services, or other personal consumer reports',\n",
       "       'Credit reporting, credit repair services, or other personal consumer reports',\n",
       "       'Debt collection', 'Debt collection', 'Debt collection',\n",
       "       'Debt collection', 'Debt collection', 'Debt collection',\n",
       "       'Debt collection', 'Debt collection', 'Debt collection',\n",
       "       'Debt collection',\n",
       "       'Money transfer, virtual currency, or money service',\n",
       "       'Money transfer, virtual currency, or money service',\n",
       "       'Money transfer, virtual currency, or money service',\n",
       "       'Money transfer, virtual currency, or money service',\n",
       "       'Money transfer, virtual currency, or money service',\n",
       "       'Money transfer, virtual currency, or money service',\n",
       "       'Money transfer, virtual currency, or money service',\n",
       "       'Money transfer, virtual currency, or money service',\n",
       "       'Money transfer, virtual currency, or money service',\n",
       "       'Money transfer, virtual currency, or money service',\n",
       "       'Money transfer, virtual currency, or money service',\n",
       "       'Money transfer, virtual currency, or money service',\n",
       "       'Money transfer, virtual currency, or money service',\n",
       "       'Money transfer, virtual currency, or money service',\n",
       "       'Money transfer, virtual currency, or money service',\n",
       "       'Money transfer, virtual currency, or money service',\n",
       "       'Money transfers', 'Money transfers', 'Money transfers',\n",
       "       'Money transfers', 'Money transfers', 'Money transfers',\n",
       "       'Mortgage', 'Mortgage', 'Mortgage', 'Mortgage', 'Mortgage',\n",
       "       'Mortgage', 'Mortgage', 'Mortgage', 'Mortgage', 'Mortgage',\n",
       "       'Mortgage', 'Mortgage', 'Mortgage', 'Mortgage', 'Mortgage',\n",
       "       'Other financial service', 'Other financial service',\n",
       "       'Other financial service', 'Other financial service',\n",
       "       'Other financial service', 'Other financial service',\n",
       "       'Other financial service', 'Other financial service',\n",
       "       'Other financial service', 'Payday loan', 'Payday loan',\n",
       "       'Payday loan', 'Payday loan', 'Payday loan', 'Payday loan',\n",
       "       'Payday loan', 'Payday loan, title loan, or personal loan',\n",
       "       'Payday loan, title loan, or personal loan',\n",
       "       'Payday loan, title loan, or personal loan',\n",
       "       'Payday loan, title loan, or personal loan',\n",
       "       'Payday loan, title loan, or personal loan',\n",
       "       'Payday loan, title loan, or personal loan',\n",
       "       'Payday loan, title loan, or personal loan',\n",
       "       'Payday loan, title loan, or personal loan',\n",
       "       'Payday loan, title loan, or personal loan',\n",
       "       'Payday loan, title loan, or personal loan',\n",
       "       'Payday loan, title loan, or personal loan',\n",
       "       'Payday loan, title loan, or personal loan',\n",
       "       'Payday loan, title loan, or personal loan',\n",
       "       'Payday loan, title loan, or personal loan',\n",
       "       'Payday loan, title loan, or personal loan',\n",
       "       'Payday loan, title loan, or personal loan',\n",
       "       'Payday loan, title loan, or personal loan',\n",
       "       'Payday loan, title loan, or personal loan',\n",
       "       'Payday loan, title loan, or personal loan',\n",
       "       'Payday loan, title loan, or personal loan',\n",
       "       'Payday loan, title loan, or personal loan',\n",
       "       'Payday loan, title loan, or personal loan',\n",
       "       'Payday loan, title loan, or personal loan',\n",
       "       'Payday loan, title loan, or personal loan', 'Prepaid card',\n",
       "       'Prepaid card', 'Prepaid card', 'Prepaid card', 'Prepaid card',\n",
       "       'Prepaid card', 'Prepaid card', 'Student loan', 'Student loan',\n",
       "       'Student loan', 'Student loan', 'Student loan', 'Student loan',\n",
       "       'Student loan', 'Student loan', 'Student loan', 'Student loan',\n",
       "       'Vehicle loan or lease', 'Vehicle loan or lease',\n",
       "       'Vehicle loan or lease', 'Vehicle loan or lease',\n",
       "       'Vehicle loan or lease', 'Vehicle loan or lease',\n",
       "       'Vehicle loan or lease', 'Vehicle loan or lease',\n",
       "       'Vehicle loan or lease', 'Vehicle loan or lease',\n",
       "       'Virtual currency', 'Virtual currency'], dtype=object)"
      ]
     },
     "execution_count": 65,
     "metadata": {},
     "output_type": "execute_result"
    }
   ],
   "source": [
    "category_id_df.Product.values"
   ]
  },
  {
   "cell_type": "code",
   "execution_count": null,
   "metadata": {},
   "outputs": [],
   "source": []
  },
  {
   "cell_type": "code",
   "execution_count": null,
   "metadata": {},
   "outputs": [],
   "source": []
  },
  {
   "cell_type": "code",
   "execution_count": null,
   "metadata": {},
   "outputs": [],
   "source": []
  },
  {
   "cell_type": "code",
   "execution_count": 62,
   "metadata": {},
   "outputs": [],
   "source": [
    "from keras.losses import BinaryFocalCrossentropy\n",
    "from tensorflow.keras.optimizers import Adam"
   ]
  },
  {
   "cell_type": "code",
   "execution_count": 63,
   "metadata": {},
   "outputs": [
    {
     "name": "stderr",
     "output_type": "stream",
     "text": [
      "C:\\Users\\Shivang\\AppData\\Local\\Programs\\Python\\Python310\\lib\\site-packages\\keras\\optimizer_v2\\adam.py:105: UserWarning: The `lr` argument is deprecated, use `learning_rate` instead.\n",
      "  super(Adam, self).__init__(name, **kwargs)\n"
     ]
    }
   ],
   "source": [
    "loss = BinaryFocalCrossentropy(from_logits=False)\n",
    "optim = Adam(lr=0.001)\n",
    "metrics = [\"accuracy\"]\n",
    "\n",
    "model.compile(loss = loss, optimizer = optim , metrics=metrics)"
   ]
  },
  {
   "cell_type": "code",
   "execution_count": 64,
   "metadata": {
    "scrolled": true
   },
   "outputs": [
    {
     "ename": "UnimplementedError",
     "evalue": "Graph execution error:\n\nDetected at node 'binary_focal_crossentropy/Cast' defined at (most recent call last):\n    File \"C:\\Users\\Shivang\\AppData\\Local\\Programs\\Python\\Python310\\lib\\runpy.py\", line 196, in _run_module_as_main\n      return _run_code(code, main_globals, None,\n    File \"C:\\Users\\Shivang\\AppData\\Local\\Programs\\Python\\Python310\\lib\\runpy.py\", line 86, in _run_code\n      exec(code, run_globals)\n    File \"C:\\Users\\Shivang\\AppData\\Local\\Programs\\Python\\Python310\\lib\\site-packages\\ipykernel_launcher.py\", line 17, in <module>\n      app.launch_new_instance()\n    File \"C:\\Users\\Shivang\\AppData\\Local\\Programs\\Python\\Python310\\lib\\site-packages\\traitlets\\config\\application.py\", line 846, in launch_instance\n      app.start()\n    File \"C:\\Users\\Shivang\\AppData\\Local\\Programs\\Python\\Python310\\lib\\site-packages\\ipykernel\\kernelapp.py\", line 707, in start\n      self.io_loop.start()\n    File \"C:\\Users\\Shivang\\AppData\\Local\\Programs\\Python\\Python310\\lib\\site-packages\\tornado\\platform\\asyncio.py\", line 199, in start\n      self.asyncio_loop.run_forever()\n    File \"C:\\Users\\Shivang\\AppData\\Local\\Programs\\Python\\Python310\\lib\\asyncio\\base_events.py\", line 595, in run_forever\n      self._run_once()\n    File \"C:\\Users\\Shivang\\AppData\\Local\\Programs\\Python\\Python310\\lib\\asyncio\\base_events.py\", line 1881, in _run_once\n      handle._run()\n    File \"C:\\Users\\Shivang\\AppData\\Local\\Programs\\Python\\Python310\\lib\\asyncio\\events.py\", line 80, in _run\n      self._context.run(self._callback, *self._args)\n    File \"C:\\Users\\Shivang\\AppData\\Local\\Programs\\Python\\Python310\\lib\\site-packages\\ipykernel\\kernelbase.py\", line 502, in dispatch_queue\n      await self.process_one()\n    File \"C:\\Users\\Shivang\\AppData\\Local\\Programs\\Python\\Python310\\lib\\site-packages\\ipykernel\\kernelbase.py\", line 491, in process_one\n      await dispatch(*args)\n    File \"C:\\Users\\Shivang\\AppData\\Local\\Programs\\Python\\Python310\\lib\\site-packages\\ipykernel\\kernelbase.py\", line 398, in dispatch_shell\n      await result\n    File \"C:\\Users\\Shivang\\AppData\\Local\\Programs\\Python\\Python310\\lib\\site-packages\\ipykernel\\kernelbase.py\", line 722, in execute_request\n      reply_content = await reply_content\n    File \"C:\\Users\\Shivang\\AppData\\Local\\Programs\\Python\\Python310\\lib\\site-packages\\ipykernel\\ipkernel.py\", line 389, in do_execute\n      res = shell.run_cell(code, store_history=store_history, silent=silent)\n    File \"C:\\Users\\Shivang\\AppData\\Local\\Programs\\Python\\Python310\\lib\\site-packages\\ipykernel\\zmqshell.py\", line 528, in run_cell\n      return super().run_cell(*args, **kwargs)\n    File \"C:\\Users\\Shivang\\AppData\\Local\\Programs\\Python\\Python310\\lib\\site-packages\\IPython\\core\\interactiveshell.py\", line 2863, in run_cell\n      result = self._run_cell(\n    File \"C:\\Users\\Shivang\\AppData\\Local\\Programs\\Python\\Python310\\lib\\site-packages\\IPython\\core\\interactiveshell.py\", line 2909, in _run_cell\n      return runner(coro)\n    File \"C:\\Users\\Shivang\\AppData\\Local\\Programs\\Python\\Python310\\lib\\site-packages\\IPython\\core\\async_helpers.py\", line 129, in _pseudo_sync_runner\n      coro.send(None)\n    File \"C:\\Users\\Shivang\\AppData\\Local\\Programs\\Python\\Python310\\lib\\site-packages\\IPython\\core\\interactiveshell.py\", line 3106, in run_cell_async\n      has_raised = await self.run_ast_nodes(code_ast.body, cell_name,\n    File \"C:\\Users\\Shivang\\AppData\\Local\\Programs\\Python\\Python310\\lib\\site-packages\\IPython\\core\\interactiveshell.py\", line 3309, in run_ast_nodes\n      if await self.run_code(code, result, async_=asy):\n    File \"C:\\Users\\Shivang\\AppData\\Local\\Programs\\Python\\Python310\\lib\\site-packages\\IPython\\core\\interactiveshell.py\", line 3369, in run_code\n      exec(code_obj, self.user_global_ns, self.user_ns)\n    File \"C:\\Users\\Shivang\\AppData\\Local\\Temp\\ipykernel_10508\\1307894564.py\", line 1, in <cell line: 1>\n      model.fit(train_padded ,train_lable) #,epochs=1 , validation_data=(val_padded,val_lable))\n    File \"C:\\Users\\Shivang\\AppData\\Local\\Programs\\Python\\Python310\\lib\\site-packages\\keras\\utils\\traceback_utils.py\", line 64, in error_handler\n      return fn(*args, **kwargs)\n    File \"C:\\Users\\Shivang\\AppData\\Local\\Programs\\Python\\Python310\\lib\\site-packages\\keras\\engine\\training.py\", line 1384, in fit\n      tmp_logs = self.train_function(iterator)\n    File \"C:\\Users\\Shivang\\AppData\\Local\\Programs\\Python\\Python310\\lib\\site-packages\\keras\\engine\\training.py\", line 1021, in train_function\n      return step_function(self, iterator)\n    File \"C:\\Users\\Shivang\\AppData\\Local\\Programs\\Python\\Python310\\lib\\site-packages\\keras\\engine\\training.py\", line 1010, in step_function\n      outputs = model.distribute_strategy.run(run_step, args=(data,))\n    File \"C:\\Users\\Shivang\\AppData\\Local\\Programs\\Python\\Python310\\lib\\site-packages\\keras\\engine\\training.py\", line 1000, in run_step\n      outputs = model.train_step(data)\n    File \"C:\\Users\\Shivang\\AppData\\Local\\Programs\\Python\\Python310\\lib\\site-packages\\keras\\engine\\training.py\", line 860, in train_step\n      loss = self.compute_loss(x, y, y_pred, sample_weight)\n    File \"C:\\Users\\Shivang\\AppData\\Local\\Programs\\Python\\Python310\\lib\\site-packages\\keras\\engine\\training.py\", line 918, in compute_loss\n      return self.compiled_loss(\n    File \"C:\\Users\\Shivang\\AppData\\Local\\Programs\\Python\\Python310\\lib\\site-packages\\keras\\engine\\compile_utils.py\", line 201, in __call__\n      loss_value = loss_obj(y_t, y_p, sample_weight=sw)\n    File \"C:\\Users\\Shivang\\AppData\\Local\\Programs\\Python\\Python310\\lib\\site-packages\\keras\\losses.py\", line 141, in __call__\n      losses = call_fn(y_true, y_pred)\n    File \"C:\\Users\\Shivang\\AppData\\Local\\Programs\\Python\\Python310\\lib\\site-packages\\keras\\losses.py\", line 245, in call\n      return ag_fn(y_true, y_pred, **self._fn_kwargs)\n    File \"C:\\Users\\Shivang\\AppData\\Local\\Programs\\Python\\Python310\\lib\\site-packages\\keras\\losses.py\", line 2019, in binary_focal_crossentropy\n      y_true = tf.cast(y_true, y_pred.dtype)\nNode: 'binary_focal_crossentropy/Cast'\nCast string to float is not supported\n\t [[{{node binary_focal_crossentropy/Cast}}]] [Op:__inference_train_function_3372]",
     "output_type": "error",
     "traceback": [
      "\u001b[1;31m---------------------------------------------------------------------------\u001b[0m",
      "\u001b[1;31mUnimplementedError\u001b[0m                        Traceback (most recent call last)",
      "Input \u001b[1;32mIn [64]\u001b[0m, in \u001b[0;36m<cell line: 1>\u001b[1;34m()\u001b[0m\n\u001b[1;32m----> 1\u001b[0m \u001b[43mmodel\u001b[49m\u001b[38;5;241;43m.\u001b[39;49m\u001b[43mfit\u001b[49m\u001b[43m(\u001b[49m\u001b[43mtrain_padded\u001b[49m\u001b[43m \u001b[49m\u001b[43m,\u001b[49m\u001b[43mtrain_lable\u001b[49m\u001b[43m)\u001b[49m\n",
      "File \u001b[1;32m~\\AppData\\Local\\Programs\\Python\\Python310\\lib\\site-packages\\keras\\utils\\traceback_utils.py:67\u001b[0m, in \u001b[0;36mfilter_traceback.<locals>.error_handler\u001b[1;34m(*args, **kwargs)\u001b[0m\n\u001b[0;32m     65\u001b[0m \u001b[38;5;28;01mexcept\u001b[39;00m \u001b[38;5;167;01mException\u001b[39;00m \u001b[38;5;28;01mas\u001b[39;00m e:  \u001b[38;5;66;03m# pylint: disable=broad-except\u001b[39;00m\n\u001b[0;32m     66\u001b[0m   filtered_tb \u001b[38;5;241m=\u001b[39m _process_traceback_frames(e\u001b[38;5;241m.\u001b[39m__traceback__)\n\u001b[1;32m---> 67\u001b[0m   \u001b[38;5;28;01mraise\u001b[39;00m e\u001b[38;5;241m.\u001b[39mwith_traceback(filtered_tb) \u001b[38;5;28;01mfrom\u001b[39;00m \u001b[38;5;28mNone\u001b[39m\n\u001b[0;32m     68\u001b[0m \u001b[38;5;28;01mfinally\u001b[39;00m:\n\u001b[0;32m     69\u001b[0m   \u001b[38;5;28;01mdel\u001b[39;00m filtered_tb\n",
      "File \u001b[1;32m~\\AppData\\Local\\Programs\\Python\\Python310\\lib\\site-packages\\tensorflow\\python\\eager\\execute.py:54\u001b[0m, in \u001b[0;36mquick_execute\u001b[1;34m(op_name, num_outputs, inputs, attrs, ctx, name)\u001b[0m\n\u001b[0;32m     52\u001b[0m \u001b[38;5;28;01mtry\u001b[39;00m:\n\u001b[0;32m     53\u001b[0m   ctx\u001b[38;5;241m.\u001b[39mensure_initialized()\n\u001b[1;32m---> 54\u001b[0m   tensors \u001b[38;5;241m=\u001b[39m pywrap_tfe\u001b[38;5;241m.\u001b[39mTFE_Py_Execute(ctx\u001b[38;5;241m.\u001b[39m_handle, device_name, op_name,\n\u001b[0;32m     55\u001b[0m                                       inputs, attrs, num_outputs)\n\u001b[0;32m     56\u001b[0m \u001b[38;5;28;01mexcept\u001b[39;00m core\u001b[38;5;241m.\u001b[39m_NotOkStatusException \u001b[38;5;28;01mas\u001b[39;00m e:\n\u001b[0;32m     57\u001b[0m   \u001b[38;5;28;01mif\u001b[39;00m name \u001b[38;5;129;01mis\u001b[39;00m \u001b[38;5;129;01mnot\u001b[39;00m \u001b[38;5;28;01mNone\u001b[39;00m:\n",
      "\u001b[1;31mUnimplementedError\u001b[0m: Graph execution error:\n\nDetected at node 'binary_focal_crossentropy/Cast' defined at (most recent call last):\n    File \"C:\\Users\\Shivang\\AppData\\Local\\Programs\\Python\\Python310\\lib\\runpy.py\", line 196, in _run_module_as_main\n      return _run_code(code, main_globals, None,\n    File \"C:\\Users\\Shivang\\AppData\\Local\\Programs\\Python\\Python310\\lib\\runpy.py\", line 86, in _run_code\n      exec(code, run_globals)\n    File \"C:\\Users\\Shivang\\AppData\\Local\\Programs\\Python\\Python310\\lib\\site-packages\\ipykernel_launcher.py\", line 17, in <module>\n      app.launch_new_instance()\n    File \"C:\\Users\\Shivang\\AppData\\Local\\Programs\\Python\\Python310\\lib\\site-packages\\traitlets\\config\\application.py\", line 846, in launch_instance\n      app.start()\n    File \"C:\\Users\\Shivang\\AppData\\Local\\Programs\\Python\\Python310\\lib\\site-packages\\ipykernel\\kernelapp.py\", line 707, in start\n      self.io_loop.start()\n    File \"C:\\Users\\Shivang\\AppData\\Local\\Programs\\Python\\Python310\\lib\\site-packages\\tornado\\platform\\asyncio.py\", line 199, in start\n      self.asyncio_loop.run_forever()\n    File \"C:\\Users\\Shivang\\AppData\\Local\\Programs\\Python\\Python310\\lib\\asyncio\\base_events.py\", line 595, in run_forever\n      self._run_once()\n    File \"C:\\Users\\Shivang\\AppData\\Local\\Programs\\Python\\Python310\\lib\\asyncio\\base_events.py\", line 1881, in _run_once\n      handle._run()\n    File \"C:\\Users\\Shivang\\AppData\\Local\\Programs\\Python\\Python310\\lib\\asyncio\\events.py\", line 80, in _run\n      self._context.run(self._callback, *self._args)\n    File \"C:\\Users\\Shivang\\AppData\\Local\\Programs\\Python\\Python310\\lib\\site-packages\\ipykernel\\kernelbase.py\", line 502, in dispatch_queue\n      await self.process_one()\n    File \"C:\\Users\\Shivang\\AppData\\Local\\Programs\\Python\\Python310\\lib\\site-packages\\ipykernel\\kernelbase.py\", line 491, in process_one\n      await dispatch(*args)\n    File \"C:\\Users\\Shivang\\AppData\\Local\\Programs\\Python\\Python310\\lib\\site-packages\\ipykernel\\kernelbase.py\", line 398, in dispatch_shell\n      await result\n    File \"C:\\Users\\Shivang\\AppData\\Local\\Programs\\Python\\Python310\\lib\\site-packages\\ipykernel\\kernelbase.py\", line 722, in execute_request\n      reply_content = await reply_content\n    File \"C:\\Users\\Shivang\\AppData\\Local\\Programs\\Python\\Python310\\lib\\site-packages\\ipykernel\\ipkernel.py\", line 389, in do_execute\n      res = shell.run_cell(code, store_history=store_history, silent=silent)\n    File \"C:\\Users\\Shivang\\AppData\\Local\\Programs\\Python\\Python310\\lib\\site-packages\\ipykernel\\zmqshell.py\", line 528, in run_cell\n      return super().run_cell(*args, **kwargs)\n    File \"C:\\Users\\Shivang\\AppData\\Local\\Programs\\Python\\Python310\\lib\\site-packages\\IPython\\core\\interactiveshell.py\", line 2863, in run_cell\n      result = self._run_cell(\n    File \"C:\\Users\\Shivang\\AppData\\Local\\Programs\\Python\\Python310\\lib\\site-packages\\IPython\\core\\interactiveshell.py\", line 2909, in _run_cell\n      return runner(coro)\n    File \"C:\\Users\\Shivang\\AppData\\Local\\Programs\\Python\\Python310\\lib\\site-packages\\IPython\\core\\async_helpers.py\", line 129, in _pseudo_sync_runner\n      coro.send(None)\n    File \"C:\\Users\\Shivang\\AppData\\Local\\Programs\\Python\\Python310\\lib\\site-packages\\IPython\\core\\interactiveshell.py\", line 3106, in run_cell_async\n      has_raised = await self.run_ast_nodes(code_ast.body, cell_name,\n    File \"C:\\Users\\Shivang\\AppData\\Local\\Programs\\Python\\Python310\\lib\\site-packages\\IPython\\core\\interactiveshell.py\", line 3309, in run_ast_nodes\n      if await self.run_code(code, result, async_=asy):\n    File \"C:\\Users\\Shivang\\AppData\\Local\\Programs\\Python\\Python310\\lib\\site-packages\\IPython\\core\\interactiveshell.py\", line 3369, in run_code\n      exec(code_obj, self.user_global_ns, self.user_ns)\n    File \"C:\\Users\\Shivang\\AppData\\Local\\Temp\\ipykernel_10508\\1307894564.py\", line 1, in <cell line: 1>\n      model.fit(train_padded ,train_lable) #,epochs=1 , validation_data=(val_padded,val_lable))\n    File \"C:\\Users\\Shivang\\AppData\\Local\\Programs\\Python\\Python310\\lib\\site-packages\\keras\\utils\\traceback_utils.py\", line 64, in error_handler\n      return fn(*args, **kwargs)\n    File \"C:\\Users\\Shivang\\AppData\\Local\\Programs\\Python\\Python310\\lib\\site-packages\\keras\\engine\\training.py\", line 1384, in fit\n      tmp_logs = self.train_function(iterator)\n    File \"C:\\Users\\Shivang\\AppData\\Local\\Programs\\Python\\Python310\\lib\\site-packages\\keras\\engine\\training.py\", line 1021, in train_function\n      return step_function(self, iterator)\n    File \"C:\\Users\\Shivang\\AppData\\Local\\Programs\\Python\\Python310\\lib\\site-packages\\keras\\engine\\training.py\", line 1010, in step_function\n      outputs = model.distribute_strategy.run(run_step, args=(data,))\n    File \"C:\\Users\\Shivang\\AppData\\Local\\Programs\\Python\\Python310\\lib\\site-packages\\keras\\engine\\training.py\", line 1000, in run_step\n      outputs = model.train_step(data)\n    File \"C:\\Users\\Shivang\\AppData\\Local\\Programs\\Python\\Python310\\lib\\site-packages\\keras\\engine\\training.py\", line 860, in train_step\n      loss = self.compute_loss(x, y, y_pred, sample_weight)\n    File \"C:\\Users\\Shivang\\AppData\\Local\\Programs\\Python\\Python310\\lib\\site-packages\\keras\\engine\\training.py\", line 918, in compute_loss\n      return self.compiled_loss(\n    File \"C:\\Users\\Shivang\\AppData\\Local\\Programs\\Python\\Python310\\lib\\site-packages\\keras\\engine\\compile_utils.py\", line 201, in __call__\n      loss_value = loss_obj(y_t, y_p, sample_weight=sw)\n    File \"C:\\Users\\Shivang\\AppData\\Local\\Programs\\Python\\Python310\\lib\\site-packages\\keras\\losses.py\", line 141, in __call__\n      losses = call_fn(y_true, y_pred)\n    File \"C:\\Users\\Shivang\\AppData\\Local\\Programs\\Python\\Python310\\lib\\site-packages\\keras\\losses.py\", line 245, in call\n      return ag_fn(y_true, y_pred, **self._fn_kwargs)\n    File \"C:\\Users\\Shivang\\AppData\\Local\\Programs\\Python\\Python310\\lib\\site-packages\\keras\\losses.py\", line 2019, in binary_focal_crossentropy\n      y_true = tf.cast(y_true, y_pred.dtype)\nNode: 'binary_focal_crossentropy/Cast'\nCast string to float is not supported\n\t [[{{node binary_focal_crossentropy/Cast}}]] [Op:__inference_train_function_3372]"
     ]
    }
   ],
   "source": [
    "model.fit(train_padded ,train_lable) #,epochs=1 , validation_data=(val_padded,val_lable))"
   ]
  },
  {
   "cell_type": "code",
   "execution_count": null,
   "metadata": {},
   "outputs": [],
   "source": [
    "prediction = model.predict(train_padded)\n",
    "prediction = [1 if p > 0.5 else 0 for p in prediction]"
   ]
  },
  {
   "cell_type": "code",
   "execution_count": null,
   "metadata": {},
   "outputs": [],
   "source": [
    "train_padded.shape , train_lable.shape , val_padded.shape ,val_lable.shape"
   ]
  },
  {
   "cell_type": "code",
   "execution_count": null,
   "metadata": {},
   "outputs": [],
   "source": []
  },
  {
   "cell_type": "code",
   "execution_count": null,
   "metadata": {},
   "outputs": [],
   "source": [
    "#for i in df['Consumer_complaint_narrative'].unique():\n",
    "#    for j in range(1000):\n",
    "#        df['Consumer_complaint_narrative'] = df[i]"
   ]
  }
 ],
 "metadata": {
  "kernelspec": {
   "display_name": "Python 3 (ipykernel)",
   "language": "python",
   "name": "python3"
  },
  "language_info": {
   "codemirror_mode": {
    "name": "ipython",
    "version": 3
   },
   "file_extension": ".py",
   "mimetype": "text/x-python",
   "name": "python",
   "nbconvert_exporter": "python",
   "pygments_lexer": "ipython3",
   "version": "3.10.1"
  }
 },
 "nbformat": 4,
 "nbformat_minor": 2
}
